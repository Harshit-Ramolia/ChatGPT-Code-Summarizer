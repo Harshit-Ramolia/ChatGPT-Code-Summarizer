{
 "cells": [
  {
   "cell_type": "code",
   "execution_count": 1,
   "metadata": {},
   "outputs": [],
   "source": [
    "from dataclasses import dataclass, field\n",
    "from extension_list import isExtension\n",
    "from typing import List\n",
    "import os\n",
    "import pyperclip"
   ]
  },
  {
   "cell_type": "code",
   "execution_count": 125,
   "metadata": {},
   "outputs": [],
   "source": [
    "def is_gitignored(path):\n",
    "    with open(\"code/.gitignore\", \"r\") as f:\n",
    "        ignored_items = [line.strip() for line in f.readlines() if line.strip() and not line.startswith(\"#\")]\n",
    "\n",
    "    for ignored_item in ignored_items:\n",
    "        ignored_path = os.path.join(path, ignored_item)\n",
    "        if os.path.exists(ignored_path):\n",
    "            return True\n",
    "    return False"
   ]
  },
  {
   "cell_type": "code",
   "execution_count": 126,
   "metadata": {},
   "outputs": [],
   "source": [
    "@dataclass\n",
    "class Node:\n",
    "    name: str = None\n",
    "    childrens: dict[str, \"Node\"] = field(default_factory=dict)\n",
    "    files: List[str] = field(default_factory=list)\n",
    "    no_files: bool = True\n",
    "\n",
    "    def __repr__(self):\n",
    "        print(f\"{self.name}, {self.no_files}\")\n",
    "        for name in self.childrens:\n",
    "            print(self.childrens[name])\n",
    "        return \"\"\n",
    "        \n",
    "\n",
    "@dataclass\n",
    "class Tree:\n",
    "    root: Node = field(default=None)\n",
    "\n",
    "    def add(self, root: str, dirs: List[str], files: List[str]):\n",
    "        current_node = self.root\n",
    "        path = root[1:].split('\\\\')[1:]\n",
    "        if (current_node == None):\n",
    "            new_node = Node(name=path[0], files=files)\n",
    "            for folders in dirs:\n",
    "                new_node.childrens[folders] = None\n",
    "            self.root = new_node\n",
    "            return\n",
    "        for name in path[1:]:\n",
    "            if (current_node.childrens[name] == None):\n",
    "                filter(lambda x: isExtension(x.split(\".\")[1]), files)\n",
    "\n",
    "                \n",
    "                new_node = Node(name=name, files=files)\n",
    "                for folders in dirs:\n",
    "                    new_node.childrens[folders] = None\n",
    "                current_node.childrens[name] = new_node\n",
    "                return\n",
    "            current_node = current_node.childrens[name]\n",
    "\n",
    "    def __fill_no_files(self, node: Node) -> bool:\n",
    "        do_child_have_files = False\n",
    "        for name in node.childrens:\n",
    "            val = self.__fill_no_files(node.childrens[name])\n",
    "            do_child_have_files = do_child_have_files or val\n",
    "        do_current_have_files = len(node.files) > 0\n",
    "        have_files = do_child_have_files or do_current_have_files\n",
    "        node.no_files = not have_files\n",
    "        return have_files\n",
    "\n",
    "    def sanitize(self):\n",
    "        self.__fill_no_files(self.root)\n",
    "    "
   ]
  },
  {
   "cell_type": "code",
   "execution_count": 129,
   "metadata": {},
   "outputs": [
    {
     "name": "stdout",
     "output_type": "stream",
     "text": [
      ".gitignore\n",
      "False\n",
      "metrics.py\n",
      "False\n",
      "q1_test.py\n",
      "False\n",
      "linear_regression.py\n",
      "False\n",
      "polynomial_features.py\n",
      "False\n"
     ]
    }
   ],
   "source": [
    "FileStruct = Tree()\n",
    "startpath = \".\\code\"\n",
    "for ele in os.walk(startpath):\n",
    "    for file in ele[2]:\n",
    "        print(file)\n",
    "        print(is_gitignored(ele[0]+file))\n",
    "    # FileStruct.add(*ele)"
   ]
  },
  {
   "cell_type": "code",
   "execution_count": 117,
   "metadata": {},
   "outputs": [],
   "source": [
    "FileStruct.sanitize()"
   ]
  },
  {
   "cell_type": "code",
   "execution_count": 2,
   "metadata": {},
   "outputs": [
    {
     "name": "stdout",
     "output_type": "stream",
     "text": [
      "DO NOT RESPONDE. THIS IS DATA. ONLY ANSWER TO THE QUERY.\n",
      "The following is hirarchy file structure for a code base\n",
      "code/\n",
      "    metrics.py\n",
      "    q1_test.py\n",
      "    linearRegression/\n",
      "        linear_regression.py\n",
      "    preprocessing/\n",
      "        polynomial_features.py\n"
     ]
    }
   ],
   "source": [
    "startpath = \"./code\"\n",
    "print(\"DO NOT RESPONDE. THIS IS DATA. ONLY ANSWER TO THE QUERY.\")\n",
    "print(f\"The following is hirarchy file structure for a code base\")\n",
    "for root, dirs, files in os.walk(startpath):\n",
    "    level = root.replace(startpath, '').count(os.sep)\n",
    "    indent = ' ' * 4 * (level)\n",
    "    print('{}{}/'.format(indent, os.path.basename(root)))\n",
    "    subindent = ' ' * 4 * (level + 1)\n",
    "    all_files = filter(lambda x: isExtension(x.split(\".\")[1]), files)\n",
    "    for f in all_files:\n",
    "        print('{}{}'.format(subindent, f))\n"
   ]
  },
  {
   "cell_type": "code",
   "execution_count": 4,
   "metadata": {},
   "outputs": [
    {
     "name": "stdout",
     "output_type": "stream",
     "text": [
      "metrics.py\n",
      "q1_test.py\n",
      "linear_regression.py\n",
      "polynomial_features.py\n"
     ]
    }
   ],
   "source": [
    "for root, dirs, files in os.walk(startpath):\n",
    "    all_files = filter(lambda x: isExtension(x.split(\".\")[1]), files)\n",
    "    for file in all_files:\n",
    "        string = \"\"\n",
    "        # string += \"DO NOT RESPONDE. THIS IS DATA. ONLY ANSWER TO THE QUERY.\\n\"\n",
    "        string += f\"The following is content for file named as {file}\\n\\n\"\n",
    "        f = open(f\"{root}/{file}\", \"r\")\n",
    "        x = f.read()\n",
    "        string += x\n",
    "        string += \"\\n\\n\"\n",
    "        string += \"Summarize this fully.\\n\"\n",
    "        print(file)\n",
    "        pyperclip.copy(string)\n",
    "        input()\n"
   ]
  },
  {
   "cell_type": "code",
   "execution_count": null,
   "metadata": {},
   "outputs": [],
   "source": []
  }
 ],
 "metadata": {
  "kernelspec": {
   "display_name": "base",
   "language": "python",
   "name": "python3"
  },
  "language_info": {
   "codemirror_mode": {
    "name": "ipython",
    "version": 3
   },
   "file_extension": ".py",
   "mimetype": "text/x-python",
   "name": "python",
   "nbconvert_exporter": "python",
   "pygments_lexer": "ipython3",
   "version": "3.9.12"
  },
  "orig_nbformat": 4
 },
 "nbformat": 4,
 "nbformat_minor": 2
}
