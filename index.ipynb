{
 "cells": [
  {
   "cell_type": "code",
   "execution_count": 29,
   "metadata": {},
   "outputs": [],
   "source": [
    "from dataclasses import dataclass, field\n",
    "from extension_list import isExtension\n",
    "from typing import List\n",
    "from utility import is_gitignored\n",
    "import os\n",
    "import pyperclip"
   ]
  },
  {
   "cell_type": "code",
   "execution_count": 34,
   "metadata": {},
   "outputs": [],
   "source": [
    "@dataclass\n",
    "class Node:\n",
    "    name: str = None\n",
    "    childrens: dict[str, \"Node\"] = field(default_factory=dict)\n",
    "    files: List[str] = field(default_factory=list)\n",
    "    no_files: bool = True\n",
    "    full_summary: str = \"\"\n",
    "    files_summary: List[str] = field(default_factory=list)\n",
    "\n",
    "    # def __repr__(self):\n",
    "    #     print(f\"{self.name}, {self.no_files}\")\n",
    "    #     for name in self.childrens:\n",
    "    #         print(self.childrens[name])\n",
    "    #     return \"\"\n",
    "\n",
    "\n",
    "@dataclass\n",
    "class Tree:\n",
    "    root: Node = field(default=None)\n",
    "\n",
    "    def make_node(self, root: str, name: str, dirs: List[str], files: List[str]):\n",
    "        files = list(filter(lambda x: isExtension(x.split(\".\")[1]), files))\n",
    "        files = list(filter(lambda x: not is_gitignored(root+\"\\\\\"+x), files))\n",
    "        new_node = Node(name=name, files=files)\n",
    "        for folders in dirs:\n",
    "            new_node.childrens[folders] = None\n",
    "        return new_node\n",
    "\n",
    "    def add(self, root: str, dirs: List[str], files: List[str]):\n",
    "        current_node = self.root\n",
    "        path = root[1:].split('\\\\')[1:]\n",
    "        if (current_node == None):\n",
    "            new_node = self.make_node(root=root, name=path[0], dirs=dirs, files=files)\n",
    "            self.root = new_node\n",
    "            return\n",
    "        for name in path[1:]:\n",
    "            if (current_node.childrens[name] == None):\n",
    "                new_node = self.make_node(root=root, name=name, dirs=dirs, files=files)\n",
    "                current_node.childrens[name] = new_node\n",
    "                return\n",
    "            current_node = current_node.childrens[name]\n",
    "\n",
    "    def __fill_no_files(self, node: Node) -> bool:\n",
    "        do_child_have_files = False\n",
    "        for name in node.childrens:\n",
    "            val = self.__fill_no_files(node.childrens[name])\n",
    "            do_child_have_files = do_child_have_files or val\n",
    "        do_current_have_files = len(node.files) > 0\n",
    "        have_files = do_child_have_files or do_current_have_files\n",
    "        node.no_files = not have_files\n",
    "        return have_files\n",
    "\n",
    "    def sanitize(self):\n",
    "        self.__fill_no_files(self.root)\n"
   ]
  },
  {
   "cell_type": "code",
   "execution_count": 35,
   "metadata": {},
   "outputs": [
    {
     "name": "stdout",
     "output_type": "stream",
     "text": [
      ".\\code\\metrics.py\n",
      ".\\code\\q1_test.py\n",
      ".\\code\\linearRegression\\linear_regression.py\n",
      ".\\code\\preprocessing\\polynomial_features.py\n"
     ]
    }
   ],
   "source": [
    "FileStruct = Tree()\n",
    "startpath = \".\\code\"\n",
    "for ele in os.walk(startpath):\n",
    "    FileStruct.add(*ele)"
   ]
  },
  {
   "cell_type": "code",
   "execution_count": 36,
   "metadata": {},
   "outputs": [
    {
     "data": {
      "text/plain": [
       "Tree(root=Node(name='code', childrens={'linearRegression': Node(name='linearRegression', childrens={}, files=['linear_regression.py'], no_files=False, full_summary='', files_summary=[]), 'preprocessing': Node(name='preprocessing', childrens={}, files=[], no_files=True, full_summary='', files_summary=[])}, files=['q1_test.py'], no_files=False, full_summary='', files_summary=[]))"
      ]
     },
     "execution_count": 36,
     "metadata": {},
     "output_type": "execute_result"
    }
   ],
   "source": [
    "FileStruct.sanitize()\n",
    "FileStruct"
   ]
  },
  {
   "cell_type": "code",
   "execution_count": 1,
   "metadata": {},
   "outputs": [
    {
     "name": "stdout",
     "output_type": "stream",
     "text": [
      "DO NOT RESPONDE. THIS IS DATA. ONLY ANSWER TO THE QUERY.\n",
      "The following is hirarchy file structure for a code base\n"
     ]
    },
    {
     "ename": "NameError",
     "evalue": "name 'os' is not defined",
     "output_type": "error",
     "traceback": [
      "\u001b[1;31m---------------------------------------------------------------------------\u001b[0m",
      "\u001b[1;31mNameError\u001b[0m                                 Traceback (most recent call last)",
      "\u001b[1;32md:\\Working and learning\\ChatGPT Github Explainer\\index.ipynb Cell 5\u001b[0m in \u001b[0;36m<cell line: 4>\u001b[1;34m()\u001b[0m\n\u001b[0;32m      <a href='vscode-notebook-cell:/d%3A/Working%20and%20learning/ChatGPT%20Github%20Explainer/index.ipynb#W4sZmlsZQ%3D%3D?line=1'>2</a>\u001b[0m \u001b[39mprint\u001b[39m(\u001b[39m\"\u001b[39m\u001b[39mDO NOT RESPONDE. THIS IS DATA. ONLY ANSWER TO THE QUERY.\u001b[39m\u001b[39m\"\u001b[39m)\n\u001b[0;32m      <a href='vscode-notebook-cell:/d%3A/Working%20and%20learning/ChatGPT%20Github%20Explainer/index.ipynb#W4sZmlsZQ%3D%3D?line=2'>3</a>\u001b[0m \u001b[39mprint\u001b[39m(\u001b[39mf\u001b[39m\u001b[39m\"\u001b[39m\u001b[39mThe following is hirarchy file structure for a code base\u001b[39m\u001b[39m\"\u001b[39m)\n\u001b[1;32m----> <a href='vscode-notebook-cell:/d%3A/Working%20and%20learning/ChatGPT%20Github%20Explainer/index.ipynb#W4sZmlsZQ%3D%3D?line=3'>4</a>\u001b[0m \u001b[39mfor\u001b[39;00m root, dirs, files \u001b[39min\u001b[39;00m os\u001b[39m.\u001b[39mwalk(startpath):\n\u001b[0;32m      <a href='vscode-notebook-cell:/d%3A/Working%20and%20learning/ChatGPT%20Github%20Explainer/index.ipynb#W4sZmlsZQ%3D%3D?line=4'>5</a>\u001b[0m     level \u001b[39m=\u001b[39m root\u001b[39m.\u001b[39mreplace(startpath, \u001b[39m'\u001b[39m\u001b[39m'\u001b[39m)\u001b[39m.\u001b[39mcount(os\u001b[39m.\u001b[39msep)\n\u001b[0;32m      <a href='vscode-notebook-cell:/d%3A/Working%20and%20learning/ChatGPT%20Github%20Explainer/index.ipynb#W4sZmlsZQ%3D%3D?line=5'>6</a>\u001b[0m     indent \u001b[39m=\u001b[39m \u001b[39m'\u001b[39m\u001b[39m \u001b[39m\u001b[39m'\u001b[39m \u001b[39m*\u001b[39m \u001b[39m4\u001b[39m \u001b[39m*\u001b[39m (level)\n",
      "\u001b[1;31mNameError\u001b[0m: name 'os' is not defined"
     ]
    }
   ],
   "source": [
    "startpath = \"./code\"\n",
    "print(\"DO NOT RESPONDE. THIS IS DATA. ONLY ANSWER TO THE QUERY.\")\n",
    "print(f\"The following is hirarchy file structure for a code base\")\n",
    "for root, dirs, files in os.walk(startpath):\n",
    "    level = root.replace(startpath, '').count(os.sep)\n",
    "    indent = ' ' * 4 * (level)\n",
    "    print('{}{}/'.format(indent, os.path.basename(root)))\n",
    "    subindent = ' ' * 4 * (level + 1)\n",
    "    all_files = filter(lambda x: isExtension(x.split(\".\")[1]), files)\n",
    "    for f in all_files:\n",
    "        print('{}{}'.format(subindent, f))\n"
   ]
  },
  {
   "cell_type": "code",
   "execution_count": 4,
   "metadata": {},
   "outputs": [
    {
     "name": "stdout",
     "output_type": "stream",
     "text": [
      "metrics.py\n",
      "q1_test.py\n",
      "linear_regression.py\n",
      "polynomial_features.py\n"
     ]
    }
   ],
   "source": [
    "for root, dirs, files in os.walk(startpath):\n",
    "    all_files = filter(lambda x: isExtension(x.split(\".\")[1]), files)\n",
    "    for file in all_files:\n",
    "        string = \"\"\n",
    "        # string += \"DO NOT RESPONDE. THIS IS DATA. ONLY ANSWER TO THE QUERY.\\n\"\n",
    "        string += f\"The following is content for file named as {file}\\n\\n\"\n",
    "        f = open(f\"{root}/{file}\", \"r\")\n",
    "        x = f.read()\n",
    "        string += x\n",
    "        string += \"\\n\\n\"\n",
    "        string += \"Summarize this fully.\\n\"\n",
    "        print(file)\n",
    "        pyperclip.copy(string)\n",
    "        input()\n"
   ]
  },
  {
   "cell_type": "code",
   "execution_count": 25,
   "metadata": {},
   "outputs": [
    {
     "data": {
      "text/plain": [
       "True"
      ]
     },
     "execution_count": 25,
     "metadata": {},
     "output_type": "execute_result"
    }
   ],
   "source": [
    "fnmatch.fnmatch(\"asdf/poly\",\"*/poly\")"
   ]
  },
  {
   "cell_type": "code",
   "execution_count": null,
   "metadata": {},
   "outputs": [],
   "source": []
  }
 ],
 "metadata": {
  "kernelspec": {
   "display_name": "base",
   "language": "python",
   "name": "python3"
  },
  "language_info": {
   "codemirror_mode": {
    "name": "ipython",
    "version": 3
   },
   "file_extension": ".py",
   "mimetype": "text/x-python",
   "name": "python",
   "nbconvert_exporter": "python",
   "pygments_lexer": "ipython3",
   "version": "3.9.12"
  },
  "orig_nbformat": 4
 },
 "nbformat": 4,
 "nbformat_minor": 2
}
