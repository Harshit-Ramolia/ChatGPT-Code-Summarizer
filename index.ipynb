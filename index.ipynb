{
 "cells": [
  {
   "cell_type": "code",
   "execution_count": 34,
   "metadata": {},
   "outputs": [],
   "source": [
    "from utility import Tree, Node\n",
    "import os\n",
    "from selenium import webdriver\n",
    "from selenium.webdriver.common.by import By\n",
    "from selenium.webdriver.common.keys import Keys\n",
    "import time\n",
    "import random"
   ]
  },
  {
   "cell_type": "code",
   "execution_count": 35,
   "metadata": {},
   "outputs": [],
   "source": [
    "FileStruct = Tree()\n",
    "startpath = \".\\code\"\n",
    "for ele in os.walk(startpath):\n",
    "    FileStruct.add(*ele)\n",
    "FileStruct.sanitize()\n"
   ]
  },
  {
   "cell_type": "code",
   "execution_count": null,
   "metadata": {},
   "outputs": [],
   "source": [
    "def get_summary_for_file(driver, path):\n",
    "    f = open(\"demofile.txt\", \"r\")\n",
    "    content = f.read()\n",
    "    textBox = driver.find_element(\n",
    "        by=By.XPATH, value=\"/html/body/div[1]/div[2]/div[2]/main/div[2]/form/div/div[2]/textarea\")\n",
    "    textBox.send_keys(content)\n",
    "    textBox.send_keys(Keys.ENTER)\n"
   ]
  },
  {
   "cell_type": "code",
   "execution_count": 36,
   "metadata": {},
   "outputs": [],
   "source": [
    "def iterator(node: Node) -> str:\n",
    "    children_summaries = [\"\"]\n",
    "    for name in node.childrens:\n",
    "        sum = iterator(node.childrens[name])\n",
    "        children_summaries += [sum]\n",
    "\n",
    "    files_summary = [\"\"]\n",
    "    for file in node.files:\n",
    "        files_summary += [file]\n",
    "\n",
    "    A = ' '.join(children_summaries)\n",
    "    B = ' '.join(files_summary)\n",
    "    C = A + \"->\" + B\n",
    "    node.files_summary = files_summary\n",
    "    node.full_summary = C\n",
    "    return C\n"
   ]
  },
  {
   "cell_type": "code",
   "execution_count": 37,
   "metadata": {},
   "outputs": [
    {
     "data": {
      "text/plain": [
       "' -> linear_regression.py -> polynomial_features.py-> metrics.py q1_test.py'"
      ]
     },
     "execution_count": 37,
     "metadata": {},
     "output_type": "execute_result"
    }
   ],
   "source": [
    "iterator(FileStruct.root)"
   ]
  },
  {
   "cell_type": "code",
   "execution_count": 38,
   "metadata": {},
   "outputs": [],
   "source": [
    "# Create Chromeoptions instance \n",
    "options = webdriver.ChromeOptions() \n",
    " \n",
    "# Adding argument to disable the AutomationControlled flag \n",
    "options.add_argument(\"--disable-blink-features=AutomationControlled\") \n",
    " \n",
    "# Exclude the collection of enable-automation switches \n",
    "options.add_experimental_option(\"excludeSwitches\", [\"enable-automation\"]) \n",
    " \n",
    "# Turn-off userAutomationExtension \n",
    "options.add_experimental_option(\"useAutomationExtension\", False) \n",
    " \n",
    "# Setting the driver path and requesting a page \n",
    "driver = webdriver.Chrome(options=options)\n",
    " \n",
    "# Changing the property of the navigator value for webdriver to undefined \n",
    "driver.execute_script(\"Object.defineProperty(navigator, 'webdriver', {get: () => undefined})\") \n",
    "\n",
    "x = random.random()\n",
    "time.sleep(x)\n",
    "driver.get(\"https://www.google.com\")"
   ]
  },
  {
   "cell_type": "code",
   "execution_count": null,
   "metadata": {},
   "outputs": [],
   "source": [
    "button = driver.find_element(by=By.XPATH, value=\"/html/body/div[1]/div[2]/div[2]/main/div[1]/div/div/div/div[2]/div/div[2]/div[2]/div/button[1]\")\n",
    "\n",
    "# /html/body/div[1]/div[2]/div[2]/main/div[1]/div/div/div/div[4]/div/div[2]/div[2]/div/button[1]/svg\n",
    "# /html/body/div[1]/div[2]/div[2]/main/div[1]/div/div/div/div[2]/div/div[2]/div[2]/div/button[1]/svg"
   ]
  },
  {
   "attachments": {},
   "cell_type": "markdown",
   "metadata": {},
   "source": [
    "The above code defines a function `is_excluded` that takes in two arguments: `file_path` and `gitignore_path`. The purpose of the function is to determine if a file is excluded by the patterns in a gitignore file.\n",
    "\n",
    "The `os` and `gitignore_parser` modules are imported at the beginning of the code.\n",
    "\n",
    "The `is_excluded` function works as follows:\n",
    "\n",
    "1. A `gitignore_parser.GitIgnoreParser` object is created by calling the `from_file` method and passing in the `gitignore_path` argument. This method automatically handles parsing the file and building a list of exclusion patterns.\n",
    "\n",
    "2. The `is_excluded` method of the `GitIgnoreParser` object is then called, passing in the `file_path` argument. This method returns `True` if the file is excluded by any of the patterns in the gitignore file, and `False` otherwise.\n",
    "\n",
    "3. The function returns the result of the `is_excluded` method as a boolean value.\n",
    "\n",
    "Overall, the function provides a convenient way to check if a file is excluded by the patterns in a gitignore file using the `gitignore_parser` module in Python."
   ]
  }
 ],
 "metadata": {
  "kernelspec": {
   "display_name": "base",
   "language": "python",
   "name": "python3"
  },
  "language_info": {
   "codemirror_mode": {
    "name": "ipython",
    "version": 3
   },
   "file_extension": ".py",
   "mimetype": "text/x-python",
   "name": "python",
   "nbconvert_exporter": "python",
   "pygments_lexer": "ipython3",
   "version": "3.9.12"
  },
  "orig_nbformat": 4
 },
 "nbformat": 4,
 "nbformat_minor": 2
}
