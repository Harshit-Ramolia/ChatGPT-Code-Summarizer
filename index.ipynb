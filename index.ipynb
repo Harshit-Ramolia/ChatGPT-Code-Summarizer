{
 "cells": [
  {
   "cell_type": "code",
   "execution_count": 1,
   "metadata": {},
   "outputs": [],
   "source": [
    "from utility import Tree, Node\n",
    "import os\n",
    "from  scrapper import Scrapper\n",
    "import time\n",
    "import random"
   ]
  },
  {
   "cell_type": "code",
   "execution_count": 21,
   "metadata": {},
   "outputs": [],
   "source": [
    "FileStruct = Tree()\n",
    "startpath = \".\\code\"\n",
    "for ele in os.walk(startpath):\n",
    "    FileStruct.add(*ele)\n",
    "FileStruct.sanitize()\n"
   ]
  },
  {
   "cell_type": "code",
   "execution_count": 22,
   "metadata": {},
   "outputs": [],
   "source": [
    "pointer = 2"
   ]
  },
  {
   "cell_type": "code",
   "execution_count": 23,
   "metadata": {},
   "outputs": [],
   "source": [
    "def get_summary_for_file(driver, path):\n",
    "    f = open(\"demofile.txt\", \"r\")\n",
    "    content = f.read()\n",
    "    textBox = driver.find_element(\n",
    "        by=By.XPATH, value=\"/html/body/div[1]/div[2]/div[2]/main/div[2]/form/div/div[2]/textarea\")\n",
    "    textBox.send_keys(content)\n",
    "    textBox.send_keys(Keys.ENTER)"
   ]
  },
  {
   "cell_type": "code",
   "execution_count": 24,
   "metadata": {},
   "outputs": [],
   "source": [
    "def iterator(node: Node) -> str:\n",
    "    children_summaries = [\"\"]\n",
    "    for name in node.childrens:\n",
    "        sum = iterator(node.childrens[name])\n",
    "        children_summaries += [sum]\n",
    "\n",
    "    files_summary = [\"\"]\n",
    "    for file in node.files:\n",
    "        files_summary += [file]\n",
    "\n",
    "    A = ' '.join(children_summaries)\n",
    "    B = ' '.join(files_summary)\n",
    "    C = A + \"->\" + B\n",
    "    node.files_summary = files_summary\n",
    "    node.full_summary = C\n",
    "    return C\n"
   ]
  },
  {
   "cell_type": "code",
   "execution_count": 25,
   "metadata": {},
   "outputs": [
    {
     "data": {
      "text/plain": [
       "' -> linear_regression.py -> polynomial_features.py-> metrics.py q1_test.py'"
      ]
     },
     "execution_count": 25,
     "metadata": {},
     "output_type": "execute_result"
    }
   ],
   "source": [
    "iterator(FileStruct.root)"
   ]
  },
  {
   "cell_type": "code",
   "execution_count": 2,
   "metadata": {},
   "outputs": [],
   "source": [
    "gpt = Scrapper()\n",
    "gpt.start()"
   ]
  },
  {
   "cell_type": "code",
   "execution_count": 3,
   "metadata": {},
   "outputs": [
    {
     "data": {
      "text/plain": [
       "'Hello Harshit! How can I assist you today?'"
      ]
     },
     "execution_count": 3,
     "metadata": {},
     "output_type": "execute_result"
    }
   ],
   "source": [
    "gpt.chatGPT(\"Hi! I am Harshit.\")"
   ]
  },
  {
   "cell_type": "code",
   "execution_count": null,
   "metadata": {},
   "outputs": [],
   "source": []
  }
 ],
 "metadata": {
  "kernelspec": {
   "display_name": "base",
   "language": "python",
   "name": "python3"
  },
  "language_info": {
   "codemirror_mode": {
    "name": "ipython",
    "version": 3
   },
   "file_extension": ".py",
   "mimetype": "text/x-python",
   "name": "python",
   "nbconvert_exporter": "python",
   "pygments_lexer": "ipython3",
   "version": "3.9.12"
  },
  "orig_nbformat": 4
 },
 "nbformat": 4,
 "nbformat_minor": 2
}
