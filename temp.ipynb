{
 "cells": [
  {
   "cell_type": "code",
   "execution_count": 1,
   "metadata": {},
   "outputs": [],
   "source": [
    "import os\n",
    "from pathlib import Path"
   ]
  },
  {
   "cell_type": "code",
   "execution_count": 15,
   "metadata": {},
   "outputs": [
    {
     "name": "stdout",
     "output_type": "stream",
     "text": [
      "['twitter-algo', 'trust_and_safety_models']\n",
      "('./twitter-algo/trust_and_safety_models', ['abusive', 'nsfw', 't', 'toxicity'], [])\n",
      "('./twitter-algo/trust_and_safety_models\\\\abusive', [], ['abusive_model.py'])\n",
      "('./twitter-algo/trust_and_safety_models\\\\nsfw', [], ['nsfw_media.py', 'nsfw_text.py'])\n",
      "('./twitter-algo/trust_and_safety_models\\\\t', ['t'], [])\n",
      "('./twitter-algo/trust_and_safety_models\\\\t\\\\t', [], ['t.txt'])\n",
      "('./twitter-algo/trust_and_safety_models\\\\toxicity', ['data', 'optim', 'settings', 'utils'], ['load_model.py', 'rescoring.py', 'train.py', '__init__.py'])\n",
      "('./twitter-algo/trust_and_safety_models\\\\toxicity\\\\data', [], ['dataframe_loader.py', 'data_preprocessing.py', 'mb_generator.py', '__init__.py'])\n",
      "('./twitter-algo/trust_and_safety_models\\\\toxicity\\\\optim', [], ['callbacks.py', 'losses.py', 'schedulers.py', '__init__.py'])\n",
      "('./twitter-algo/trust_and_safety_models\\\\toxicity\\\\settings', [], ['default_settings_tox.py', '__init__.py'])\n",
      "('./twitter-algo/trust_and_safety_models\\\\toxicity\\\\utils', [], ['helpers.py', '__init__.py'])\n"
     ]
    },
    {
     "data": {
      "text/plain": [
       "29"
      ]
     },
     "execution_count": 15,
     "metadata": {},
     "output_type": "execute_result"
    }
   ],
   "source": [
    "print(list(Path(\"./twitter-algo\\\\trust_and_safety_models\").parts))\n",
    "\n",
    "walk = os.walk(\"./twitter-algo/trust_and_safety_models\", followlinks=True)\n",
    "count = 0\n",
    "for ele in walk:\n",
    "    print(ele)\n",
    "    count += len(ele[1])\n",
    "    count += len(ele[2])\n",
    "count"
   ]
  },
  {
   "cell_type": "code",
   "execution_count": null,
   "metadata": {},
   "outputs": [],
   "source": []
  }
 ],
 "metadata": {
  "kernelspec": {
   "display_name": "base",
   "language": "python",
   "name": "python3"
  },
  "language_info": {
   "codemirror_mode": {
    "name": "ipython",
    "version": 3
   },
   "file_extension": ".py",
   "mimetype": "text/x-python",
   "name": "python",
   "nbconvert_exporter": "python",
   "pygments_lexer": "ipython3",
   "version": "3.9.12"
  },
  "orig_nbformat": 4
 },
 "nbformat": 4,
 "nbformat_minor": 2
}
