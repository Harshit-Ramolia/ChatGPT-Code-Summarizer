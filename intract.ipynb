{
 "cells": [
  {
   "cell_type": "code",
   "execution_count": 16,
   "metadata": {},
   "outputs": [],
   "source": [
    "from selenium import webdriver\n",
    "from selenium.webdriver.common.by import By\n",
    "from selenium.webdriver.common.keys import Keys"
   ]
  },
  {
   "cell_type": "code",
   "execution_count": 13,
   "metadata": {},
   "outputs": [],
   "source": [
    "# Create Chromeoptions instance \n",
    "options = webdriver.ChromeOptions() \n",
    " \n",
    "# Adding argument to disable the AutomationControlled flag \n",
    "options.add_argument(\"--disable-blink-features=AutomationControlled\") \n",
    " \n",
    "# Exclude the collection of enable-automation switches \n",
    "options.add_experimental_option(\"excludeSwitches\", [\"enable-automation\"]) \n",
    " \n",
    "# Turn-off userAutomationExtension \n",
    "options.add_experimental_option(\"useAutomationExtension\", False) \n",
    " \n",
    "# Setting the driver path and requesting a page \n",
    "driver = webdriver.Chrome(options=options)\n",
    " \n",
    "# Changing the property of the navigator value for webdriver to undefined \n",
    "driver.execute_script(\"Object.defineProperty(navigator, 'webdriver', {get: () => undefined})\") "
   ]
  },
  {
   "cell_type": "code",
   "execution_count": 19,
   "metadata": {},
   "outputs": [
    {
     "ename": "NoSuchWindowException",
     "evalue": "Message: no such window: target window already closed\nfrom unknown error: web view not found\n  (Session info: chrome=111.0.5563.148)\nStacktrace:\nBacktrace:\n\t(No symbol) [0x002CDCE3]\n\t(No symbol) [0x002639D1]\n\t(No symbol) [0x00174DA8]\n\t(No symbol) [0x0015D0D3]\n\t(No symbol) [0x001BEA8B]\n\t(No symbol) [0x001CD093]\n\t(No symbol) [0x001BACC6]\n\t(No symbol) [0x00196F68]\n\t(No symbol) [0x001980CD]\n\tGetHandleVerifier [0x00543832+2506274]\n\tGetHandleVerifier [0x00579794+2727300]\n\tGetHandleVerifier [0x0057E36C+2746716]\n\tGetHandleVerifier [0x00376690+617600]\n\t(No symbol) [0x0026C712]\n\t(No symbol) [0x00271FF8]\n\t(No symbol) [0x002720DB]\n\t(No symbol) [0x0027C63B]\n\tBaseThreadInitThunk [0x767F00F9+25]\n\tRtlGetAppContainerNamedObjectPath [0x77627BBE+286]\n\tRtlGetAppContainerNamedObjectPath [0x77627B8E+238]\n\t(No symbol) [0x00000000]\n",
     "output_type": "error",
     "traceback": [
      "\u001b[1;31m---------------------------------------------------------------------------\u001b[0m",
      "\u001b[1;31mNoSuchWindowException\u001b[0m                     Traceback (most recent call last)",
      "\u001b[1;32md:\\Working and learning\\ChatGPT Github Explainer\\intract.ipynb Cell 3\u001b[0m in \u001b[0;36m<cell line: 1>\u001b[1;34m()\u001b[0m\n\u001b[1;32m----> <a href='vscode-notebook-cell:/d%3A/Working%20and%20learning/ChatGPT%20Github%20Explainer/intract.ipynb#W4sZmlsZQ%3D%3D?line=0'>1</a>\u001b[0m driver\u001b[39m.\u001b[39;49mget(\u001b[39m\"\u001b[39;49m\u001b[39mhttps://www.google.com\u001b[39;49m\u001b[39m\"\u001b[39;49m)\n",
      "File \u001b[1;32mc:\\Users\\Harshit\\anaconda3\\lib\\site-packages\\selenium\\webdriver\\remote\\webdriver.py:449\u001b[0m, in \u001b[0;36mWebDriver.get\u001b[1;34m(self, url)\u001b[0m\n\u001b[0;32m    447\u001b[0m \u001b[39mdef\u001b[39;00m \u001b[39mget\u001b[39m(\u001b[39mself\u001b[39m, url: \u001b[39mstr\u001b[39m) \u001b[39m-\u001b[39m\u001b[39m>\u001b[39m \u001b[39mNone\u001b[39;00m:\n\u001b[0;32m    448\u001b[0m     \u001b[39m\"\"\"Loads a web page in the current browser session.\"\"\"\u001b[39;00m\n\u001b[1;32m--> 449\u001b[0m     \u001b[39mself\u001b[39;49m\u001b[39m.\u001b[39;49mexecute(Command\u001b[39m.\u001b[39;49mGET, {\u001b[39m\"\u001b[39;49m\u001b[39murl\u001b[39;49m\u001b[39m\"\u001b[39;49m: url})\n",
      "File \u001b[1;32mc:\\Users\\Harshit\\anaconda3\\lib\\site-packages\\selenium\\webdriver\\remote\\webdriver.py:440\u001b[0m, in \u001b[0;36mWebDriver.execute\u001b[1;34m(self, driver_command, params)\u001b[0m\n\u001b[0;32m    438\u001b[0m response \u001b[39m=\u001b[39m \u001b[39mself\u001b[39m\u001b[39m.\u001b[39mcommand_executor\u001b[39m.\u001b[39mexecute(driver_command, params)\n\u001b[0;32m    439\u001b[0m \u001b[39mif\u001b[39;00m response:\n\u001b[1;32m--> 440\u001b[0m     \u001b[39mself\u001b[39;49m\u001b[39m.\u001b[39;49merror_handler\u001b[39m.\u001b[39;49mcheck_response(response)\n\u001b[0;32m    441\u001b[0m     response[\u001b[39m\"\u001b[39m\u001b[39mvalue\u001b[39m\u001b[39m\"\u001b[39m] \u001b[39m=\u001b[39m \u001b[39mself\u001b[39m\u001b[39m.\u001b[39m_unwrap_value(response\u001b[39m.\u001b[39mget(\u001b[39m\"\u001b[39m\u001b[39mvalue\u001b[39m\u001b[39m\"\u001b[39m, \u001b[39mNone\u001b[39;00m))\n\u001b[0;32m    442\u001b[0m     \u001b[39mreturn\u001b[39;00m response\n",
      "File \u001b[1;32mc:\\Users\\Harshit\\anaconda3\\lib\\site-packages\\selenium\\webdriver\\remote\\errorhandler.py:245\u001b[0m, in \u001b[0;36mErrorHandler.check_response\u001b[1;34m(self, response)\u001b[0m\n\u001b[0;32m    243\u001b[0m         alert_text \u001b[39m=\u001b[39m value[\u001b[39m\"\u001b[39m\u001b[39malert\u001b[39m\u001b[39m\"\u001b[39m]\u001b[39m.\u001b[39mget(\u001b[39m\"\u001b[39m\u001b[39mtext\u001b[39m\u001b[39m\"\u001b[39m)\n\u001b[0;32m    244\u001b[0m     \u001b[39mraise\u001b[39;00m exception_class(message, screen, stacktrace, alert_text)  \u001b[39m# type: ignore[call-arg]  # mypy is not smart enough here\u001b[39;00m\n\u001b[1;32m--> 245\u001b[0m \u001b[39mraise\u001b[39;00m exception_class(message, screen, stacktrace)\n",
      "\u001b[1;31mNoSuchWindowException\u001b[0m: Message: no such window: target window already closed\nfrom unknown error: web view not found\n  (Session info: chrome=111.0.5563.148)\nStacktrace:\nBacktrace:\n\t(No symbol) [0x002CDCE3]\n\t(No symbol) [0x002639D1]\n\t(No symbol) [0x00174DA8]\n\t(No symbol) [0x0015D0D3]\n\t(No symbol) [0x001BEA8B]\n\t(No symbol) [0x001CD093]\n\t(No symbol) [0x001BACC6]\n\t(No symbol) [0x00196F68]\n\t(No symbol) [0x001980CD]\n\tGetHandleVerifier [0x00543832+2506274]\n\tGetHandleVerifier [0x00579794+2727300]\n\tGetHandleVerifier [0x0057E36C+2746716]\n\tGetHandleVerifier [0x00376690+617600]\n\t(No symbol) [0x0026C712]\n\t(No symbol) [0x00271FF8]\n\t(No symbol) [0x002720DB]\n\t(No symbol) [0x0027C63B]\n\tBaseThreadInitThunk [0x767F00F9+25]\n\tRtlGetAppContainerNamedObjectPath [0x77627BBE+286]\n\tRtlGetAppContainerNamedObjectPath [0x77627B8E+238]\n\t(No symbol) [0x00000000]\n"
     ]
    }
   ],
   "source": [
    "driver.get(\"https://www.google.com\")"
   ]
  },
  {
   "cell_type": "code",
   "execution_count": 14,
   "metadata": {},
   "outputs": [],
   "source": [
    "driver.get(\"https://chat.openai.com/chat\")"
   ]
  },
  {
   "cell_type": "code",
   "execution_count": 15,
   "metadata": {},
   "outputs": [],
   "source": [
    "textBox = driver.find_element(\n",
    "    by=By.XPATH, value=\"/html/body/div[1]/div[2]/div[2]/main/div[2]/form/div/div[2]/textarea\")\n",
    "textBox.send_keys(\"Hello, World!\")"
   ]
  },
  {
   "cell_type": "code",
   "execution_count": 17,
   "metadata": {},
   "outputs": [],
   "source": [
    "textBox.send_keys(Keys.CONTROL+Keys.ENTER)"
   ]
  },
  {
   "cell_type": "code",
   "execution_count": null,
   "metadata": {},
   "outputs": [],
   "source": []
  }
 ],
 "metadata": {
  "kernelspec": {
   "display_name": "base",
   "language": "python",
   "name": "python3"
  },
  "language_info": {
   "codemirror_mode": {
    "name": "ipython",
    "version": 3
   },
   "file_extension": ".py",
   "mimetype": "text/x-python",
   "name": "python",
   "nbconvert_exporter": "python",
   "pygments_lexer": "ipython3",
   "version": "3.9.12"
  },
  "orig_nbformat": 4
 },
 "nbformat": 4,
 "nbformat_minor": 2
}
